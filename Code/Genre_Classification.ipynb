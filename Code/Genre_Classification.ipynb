{
  "nbformat": 4,
  "nbformat_minor": 0,
  "metadata": {
    "colab": {
      "provenance": [],
      "gpuType": "T4"
    },
    "kernelspec": {
      "name": "python3",
      "display_name": "Python 3"
    },
    "language_info": {
      "name": "python"
    },
    "accelerator": "GPU"
  },
  "cells": [
    {
      "cell_type": "markdown",
      "source": [
        "# MUSIC GENRE CLASSIFICATION"
      ],
      "metadata": {
        "id": "t_Q-feb2G_UM"
      }
    },
    {
      "cell_type": "code",
      "execution_count": null,
      "metadata": {
        "id": "_HqcOVOPxEMp"
      },
      "outputs": [],
      "source": [
        "import matplotlib.pyplot as plt\n",
        "import numpy as np\n",
        "import os\n",
        "import PIL\n",
        "import PIL.Image\n",
        "import tensorflow as tf\n",
        "from sklearn.metrics import *\n",
        "from sklearn.model_selection import train_test_split\n",
        "from tensorflow.keras import layers\n",
        "from tensorflow.keras.losses import SparseCategoricalCrossentropy\n",
        "from tensorflow.keras.metrics import SparseCategoricalAccuracy"
      ]
    },
    {
      "cell_type": "markdown",
      "source": [
        "# DATA PREPROCESSING"
      ],
      "metadata": {
        "id": "mtFoVQSjHGzv"
      }
    },
    {
      "cell_type": "markdown",
      "source": [
        "## DATA READ and TRAIN VALIDATION SPLIT"
      ],
      "metadata": {
        "id": "DoxD7DOaHNz-"
      }
    },
    {
      "cell_type": "code",
      "source": [
        "def Read_Data():\n",
        "  data =  tf.keras.utils.image_dataset_from_directory('/content/drive/MyDrive/PhaseSpectograms/genres',\n",
        "                                                      batch_size = 32,\n",
        "                                                      image_size = (256,256),\n",
        "                                                      validation_split = 0.1,\n",
        "                                                      subset = 'training',\n",
        "                                                      seed=0)\n",
        "  print('Read correctly')\n",
        "  return data"
      ],
      "metadata": {
        "id": "Yim2yl4kyNSZ"
      },
      "execution_count": null,
      "outputs": []
    },
    {
      "cell_type": "code",
      "source": [
        "dataset = Read_Data()"
      ],
      "metadata": {
        "id": "KFLY5jOe0pmH",
        "colab": {
          "base_uri": "https://localhost:8080/"
        },
        "outputId": "f90b9228-1ff3-4f5a-b4ff-64a568ee89a3"
      },
      "execution_count": null,
      "outputs": [
        {
          "output_type": "stream",
          "name": "stdout",
          "text": [
            "Found 1229 files belonging to 10 classes.\n",
            "Using 1107 files for training.\n",
            "Read correctly\n"
          ]
        }
      ]
    },
    {
      "cell_type": "markdown",
      "source": [
        "## NORMALIZATION"
      ],
      "metadata": {
        "id": "DNHIx9GeJ210"
      }
    },
    {
      "cell_type": "code",
      "source": [
        "dataset = dataset.map(lambda x, y: (x / 255.0, y))"
      ],
      "metadata": {
        "id": "knK3dXPP5khp"
      },
      "execution_count": null,
      "outputs": []
    },
    {
      "cell_type": "markdown",
      "source": [
        "# TRAINING"
      ],
      "metadata": {
        "id": "qPNY7Lt0KYCx"
      }
    },
    {
      "cell_type": "code",
      "source": [
        "model = tf.keras.Sequential([\n",
        "    layers.Conv2D(32, (3, 3), activation='relu', input_shape=(256, 256, 3)),\n",
        "    layers.MaxPooling2D((2, 2)),\n",
        "    layers.Conv2D(32, (3, 3), activation='relu'),\n",
        "    layers.MaxPooling2D((2, 2)),\n",
        "    layers.Conv2D(64, (3, 3), activation='relu'),\n",
        "    layers.MaxPooling2D((2, 2)),\n",
        "    layers.Flatten(),\n",
        "    layers.Dense(128, activation='relu'),\n",
        "    layers.Dense(10, activation='softmax')  # num_classes sınıf sayısı\n",
        "])"
      ],
      "metadata": {
        "id": "B_8BknDDHhrx"
      },
      "execution_count": null,
      "outputs": []
    },
    {
      "cell_type": "code",
      "source": [
        "model.compile(optimizer='adam',\n",
        "              loss='sparse_categorical_crossentropy',\n",
        "              metrics=['accuracy'])"
      ],
      "metadata": {
        "id": "nUeYQKrvK6vt"
      },
      "execution_count": null,
      "outputs": []
    },
    {
      "cell_type": "code",
      "source": [
        "model.fit(dataset, epochs=20)"
      ],
      "metadata": {
        "colab": {
          "base_uri": "https://localhost:8080/"
        },
        "id": "SJ5W42oVK863",
        "outputId": "f81f2450-8606-4b8d-d1c5-0f93eefee426"
      },
      "execution_count": null,
      "outputs": [
        {
          "output_type": "stream",
          "name": "stdout",
          "text": [
            "Epoch 1/20\n",
            "35/35 [==============================] - 15s 286ms/step - loss: 1.8208 - accuracy: 0.3306\n",
            "Epoch 2/20\n",
            "35/35 [==============================] - 15s 286ms/step - loss: 1.7535 - accuracy: 0.3288\n",
            "Epoch 3/20\n",
            "35/35 [==============================] - 15s 342ms/step - loss: 1.6745 - accuracy: 0.3749\n",
            "Epoch 4/20\n",
            "35/35 [==============================] - 15s 298ms/step - loss: 1.6360 - accuracy: 0.3785\n",
            "Epoch 5/20\n",
            "35/35 [==============================] - 15s 336ms/step - loss: 1.5839 - accuracy: 0.4065\n",
            "Epoch 6/20\n",
            "35/35 [==============================] - 15s 313ms/step - loss: 1.5400 - accuracy: 0.4390\n",
            "Epoch 7/20\n",
            "35/35 [==============================] - 15s 349ms/step - loss: 1.4255 - accuracy: 0.4734\n",
            "Epoch 8/20\n",
            "35/35 [==============================] - 14s 304ms/step - loss: 1.3484 - accuracy: 0.4905\n",
            "Epoch 9/20\n",
            "35/35 [==============================] - 15s 342ms/step - loss: 1.3001 - accuracy: 0.5167\n",
            "Epoch 10/20\n",
            "35/35 [==============================] - 15s 337ms/step - loss: 1.1708 - accuracy: 0.5619\n",
            "Epoch 11/20\n",
            "35/35 [==============================] - 15s 339ms/step - loss: 1.0453 - accuracy: 0.6450\n",
            "Epoch 12/20\n",
            "35/35 [==============================] - 15s 339ms/step - loss: 0.7500 - accuracy: 0.7787\n",
            "Epoch 13/20\n",
            "35/35 [==============================] - 15s 337ms/step - loss: 0.4962 - accuracy: 0.8591\n",
            "Epoch 14/20\n",
            "35/35 [==============================] - 14s 336ms/step - loss: 0.2876 - accuracy: 0.9341\n",
            "Epoch 15/20\n",
            "35/35 [==============================] - 14s 322ms/step - loss: 0.1545 - accuracy: 0.9702\n",
            "Epoch 16/20\n",
            "35/35 [==============================] - 14s 336ms/step - loss: 0.0623 - accuracy: 0.9946\n",
            "Epoch 17/20\n",
            "35/35 [==============================] - 14s 301ms/step - loss: 0.0300 - accuracy: 0.9982\n",
            "Epoch 18/20\n",
            "35/35 [==============================] - 15s 335ms/step - loss: 0.0157 - accuracy: 0.9991\n",
            "Epoch 19/20\n",
            "35/35 [==============================] - 15s 290ms/step - loss: 0.0158 - accuracy: 0.9982\n",
            "Epoch 20/20\n",
            "35/35 [==============================] - 15s 341ms/step - loss: 0.0133 - accuracy: 0.9982\n"
          ]
        },
        {
          "output_type": "execute_result",
          "data": {
            "text/plain": [
              "<keras.src.callbacks.History at 0x7f72ec6d7100>"
            ]
          },
          "metadata": {},
          "execution_count": 11
        }
      ]
    },
    {
      "cell_type": "markdown",
      "source": [
        "# SAVE MODEL"
      ],
      "metadata": {
        "id": "ZpqJyxrcLHl4"
      }
    },
    {
      "cell_type": "code",
      "source": [
        "model.save_weights('/content/drive/MyDrive/20Epoch')"
      ],
      "metadata": {
        "id": "Rf_-9sumLI8t"
      },
      "execution_count": null,
      "outputs": []
    },
    {
      "cell_type": "markdown",
      "source": [
        "# RELOAD MODEL"
      ],
      "metadata": {
        "id": "lJ-gE4rd5uO_"
      }
    },
    {
      "cell_type": "code",
      "source": [
        "model_reload = tf.keras.models.load_model('/content/drive/MyDrive/20Epoch')\n",
        "model_reload.summary()"
      ],
      "metadata": {
        "colab": {
          "base_uri": "https://localhost:8080/"
        },
        "id": "olfS_sZ24XhN",
        "outputId": "e32e9056-e359-477f-ea2c-580e996efb20"
      },
      "execution_count": null,
      "outputs": [
        {
          "output_type": "stream",
          "name": "stdout",
          "text": [
            "Model: \"sequential_1\"\n",
            "_________________________________________________________________\n",
            " Layer (type)                Output Shape              Param #   \n",
            "=================================================================\n",
            " conv2d_3 (Conv2D)           (None, 254, 254, 32)      896       \n",
            "                                                                 \n",
            " max_pooling2d_3 (MaxPoolin  (None, 127, 127, 32)      0         \n",
            " g2D)                                                            \n",
            "                                                                 \n",
            " conv2d_4 (Conv2D)           (None, 125, 125, 32)      9248      \n",
            "                                                                 \n",
            " max_pooling2d_4 (MaxPoolin  (None, 62, 62, 32)        0         \n",
            " g2D)                                                            \n",
            "                                                                 \n",
            " conv2d_5 (Conv2D)           (None, 60, 60, 64)        18496     \n",
            "                                                                 \n",
            " max_pooling2d_5 (MaxPoolin  (None, 30, 30, 64)        0         \n",
            " g2D)                                                            \n",
            "                                                                 \n",
            " flatten_1 (Flatten)         (None, 57600)             0         \n",
            "                                                                 \n",
            " dense_2 (Dense)             (None, 128)               7372928   \n",
            "                                                                 \n",
            " dense_3 (Dense)             (None, 10)                1290      \n",
            "                                                                 \n",
            "=================================================================\n",
            "Total params: 7402858 (28.24 MB)\n",
            "Trainable params: 7402858 (28.24 MB)\n",
            "Non-trainable params: 0 (0.00 Byte)\n",
            "_________________________________________________________________\n"
          ]
        }
      ]
    },
    {
      "cell_type": "code",
      "source": [],
      "metadata": {
        "id": "AKNp0aws5Dv3"
      },
      "execution_count": null,
      "outputs": []
    }
  ]
}